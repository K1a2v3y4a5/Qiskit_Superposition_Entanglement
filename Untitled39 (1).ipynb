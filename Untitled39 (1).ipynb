{
  "nbformat": 4,
  "nbformat_minor": 0,
  "metadata": {
    "colab": {
      "provenance": []
    },
    "kernelspec": {
      "name": "python3",
      "display_name": "Python 3"
    },
    "language_info": {
      "name": "python"
    }
  },
  "cells": [
    {
      "cell_type": "code",
      "source": [
        "!pip install qiskit --quiet\n",
        "!pip install qiskit-aer --quiet\n",
        "\n"
      ],
      "metadata": {
        "id": "y7QTf43bXBKS"
      },
      "execution_count": 7,
      "outputs": []
    },
    {
      "cell_type": "code",
      "source": [
        "from qiskit import QuantumCircuit\n",
        "from qiskit_aer import AerSimulator\n",
        "from qiskit.visualization import plot_histogram, plot_bloch_multivector\n",
        "from qiskit.quantum_info import Statevector\n",
        "import matplotlib.pyplot as plt\n"
      ],
      "metadata": {
        "id": "c7Ox4XnvW5Od"
      },
      "execution_count": 8,
      "outputs": []
    },
    {
      "cell_type": "code",
      "execution_count": 9,
      "metadata": {
        "colab": {
          "base_uri": "https://localhost:8080/"
        },
        "id": "-9iSvgvdWk2j",
        "outputId": "cb99c87a-3c58-4aba-c305-5a7943fe1d6c"
      },
      "outputs": [
        {
          "output_type": "stream",
          "name": "stdout",
          "text": [
            "Superposition Measurement Counts: {'1': 514, '0': 510}\n"
          ]
        }
      ],
      "source": [
        "#Step 1: Create a single-qubit circuit\n",
        "qc_super = QuantumCircuit(1, 1)\n",
        "\n",
        "# Step 2: Apply Hadamard gate to create superposition\n",
        "qc_super.h(0)\n",
        "\n",
        "# Step 3: Measure the qubit\n",
        "qc_super.measure(0, 0)\n",
        "\n",
        "# Step 4: Simulate\n",
        "simulator = AerSimulator()\n",
        "job = simulator.run(qc_super, shots=1024)\n",
        "result = job.result()\n",
        "counts = result.get_counts()\n",
        "\n",
        "# Step 5: Display results\n",
        "print(\"Superposition Measurement Counts:\", counts)\n",
        "plot_histogram(counts)\n",
        "plt.show()"
      ]
    },
    {
      "cell_type": "code",
      "source": [
        "# Step 1: Create a 2-qubit circuit\n",
        "qc_ent = QuantumCircuit(2, 2)\n",
        "\n",
        "# Step 2: Apply H on qubit 0\n",
        "qc_ent.h(0)\n",
        "\n",
        "# Step 3: Apply CNOT (control=0, target=1)\n",
        "qc_ent.cx(0, 1)\n",
        "\n",
        "# Step 4: Measure both qubits\n",
        "qc_ent.measure([0, 1], [0, 1])\n",
        "\n",
        "# Step 5: Simulate\n",
        "simulator = AerSimulator()\n",
        "job = simulator.run(qc_ent, shots=1024)\n",
        "result = job.result()\n",
        "counts = result.get_counts()\n",
        "\n",
        "# Step 6: Display results\n",
        "print(\"Entanglement Measurement Counts:\", counts)\n",
        "plot_histogram(counts)\n",
        "plt.show()"
      ],
      "metadata": {
        "colab": {
          "base_uri": "https://localhost:8080/"
        },
        "id": "I5u0zg6EWo8z",
        "outputId": "7120306b-18f3-4259-d97a-6878ab185e84"
      },
      "execution_count": 10,
      "outputs": [
        {
          "output_type": "stream",
          "name": "stdout",
          "text": [
            "Entanglement Measurement Counts: {'00': 512, '11': 512}\n"
          ]
        }
      ]
    }
  ]
}